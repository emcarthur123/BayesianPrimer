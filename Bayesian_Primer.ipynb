{
 "cells": [
  {
   "cell_type": "code",
   "execution_count": 8,
   "id": "9ee6cc2d-564e-441b-9d18-4a6200c71f5e",
   "metadata": {
    "tags": []
   },
   "outputs": [],
   "source": [
    "### REQUIRED IMPORTS\n",
    "import numpy as np\n",
    "import matplotlib.pyplot as plt\n",
    "from scipy.stats import norm\n",
    "\n",
    "np.random.seed(42)"
   ]
  },
  {
   "cell_type": "markdown",
   "id": "e4219a8f-9cc9-4c90-9f73-f879418b3add",
   "metadata": {},
   "source": [
    "# Problem Statement:\n",
    "*(padma: I attempted to define our goals for this notebook - feel free to edit/add/subtract!)*\n",
    "\n",
    " We wish to measure an unknown quantity - Phil's height, parameterized as $\\theta$. We make 1000 measurements of $\\theta$ and this is our data $x$. The distribution of this data should depend on the true value of $\\theta$ and provide us with information on the same. In this notebook, we will explore Frequentist and Bayesian methods to arrive at our parameter of interest with well-understood uncertainties."
   ]
  },
  {
   "cell_type": "markdown",
   "id": "b2099d0e-0681-40bd-b26d-7b601eb8972a",
   "metadata": {},
   "source": [
    "*padma: I like the idea of defining steps!*\n",
    "\n",
    "**Step 1:** Generate a datset of 1000 values ranging from 1 to 10 and randomly sample from 10 and calculate a mean from that sample.\n",
    "\n",
    "*padma: why ranging from 1 to 10? Why are we sampling 10 values from a larger dataset? I think we might need to explain the reasoning for every cell of code before the cell* "
   ]
  },
  {
   "cell_type": "code",
   "execution_count": 10,
   "id": "fed2087c-98f0-42c9-9b14-80c36cddebe0",
   "metadata": {
    "tags": []
   },
   "outputs": [
    {
     "data": {
      "image/png": "[encoded data removed]",
      "text/plain": [
       "<Figure size 640x480 with 1 Axes>"
      ]
     },
     "metadata": {},
     "output_type": "display_data"
    }
   ],
   "source": [
    "# Generate random mean\n",
    "random_mean = np.random.randint(0, 100)\n",
    "\n",
    "# Generate random dataset between 1 and 10\n",
    "dataset_size = 1000\n",
    "random_dataset = np.random.uniform(1, 10, dataset_size)\n",
    "\n",
    "# Randomly sample from the dataset 100 times\n",
    "sample_size = 10\n",
    "sampled_data = np.random.choice(random_dataset, size=sample_size, replace=False)\n",
    "\n",
    "# Plot a histogram of the sampled data\n",
    "plt.hist(sampled_data, bins=20, range=(1, 10), edgecolor='black', alpha=0.7)\n",
    "plt.xlabel('Value')\n",
    "plt.ylabel('Frequency')\n",
    "plt.title('Histogram of Sampled Data (10 samples)')\n",
    "plt.show()"
   ]
  },
  {
   "cell_type": "markdown",
   "id": "31d59956",
   "metadata": {},
   "source": [
    "**Step 2:** Calculate the mean and standard deviation from the sampled data\n",
    "\n",
    "*padma: in the cell below, maybe we can attempt to show the reader how the `sampled_data`'s mean and standard deviation will be different `random_dataset`'s mean and standard deviation?*"
   ]
  },
  {
   "cell_type": "code",
   "execution_count": 11,
   "id": "38a14964-afa0-4c60-990e-fd6b4e1e6dd2",
   "metadata": {
    "tags": []
   },
   "outputs": [
    {
     "name": "stdout",
     "output_type": "stream",
     "text": [
      "Sample Mean: 5.257720605076236\n",
      "Sample Standard Deviation: 3.1905350852239023\n"
     ]
    }
   ],
   "source": [
    "sample_mean = np.mean(sampled_data)\n",
    "sample_std_dev = np.std(sampled_data)\n",
    "print(\"Sample Mean:\", sample_mean)\n",
    "print(\"Sample Standard Deviation:\", sample_std_dev)"
   ]
  },
  {
   "cell_type": "markdown",
   "id": "8ff001c8-6281-440b-b4d9-225ee2dbd4df",
   "metadata": {},
   "source": [
    "*padma: hardcoding in values into markdown might not work!*\n",
    "\n",
    "From the randomly sampled points in the dataset the calculated mean is 6.70 and the standard deviation is .63 "
   ]
  },
  {
   "cell_type": "markdown",
   "id": "3e88b6a1-c51d-4b01-b8e9-610c136b1c73",
   "metadata": {},
   "source": [
    "# Likelihood Function\n",
    "\n"
   ]
  },
  {
   "cell_type": "markdown",
   "id": "85c9299c-ec08-430b-b676-878b7998867f",
   "metadata": {
    "tags": []
   },
   "source": [
    "*padma: maybe we can first introduce the general function for likelihood ($p (x_i ; \\theta)$) first?*\n",
    " \n",
    "Much of frequentist statistic is maximizing the likelihood function. "
   ]
  },
  {
   "cell_type": "markdown",
   "id": "340798fe-a82e-408e-9a7f-d4a310ca69ba",
   "metadata": {},
   "source": [
    "Likelihood function for a Gaussian distribution:\n",
    "\n",
    "$$\n",
    "L(x \\,|\\, \\mu, \\sigma) = \\prod_{i=1}^{n} \\frac{1}{\\sigma \\sqrt{2\\pi}} \\exp\\left(-\\frac{1}{2}\\left(\\frac{x_i - \\mu}{\\sigma}\\right)^2\\right)\n",
    "$$\n",
    "\n",
    "This equation represents the likelihood function for a Gaussian distribution, where:\n",
    "* $x$ is the observed data, \n",
    "* $\\mu$ is the mean parameter, \n",
    "* $\\sigma$ is the standard deviation parameter, and \n",
    "* $n$ is the number of observations. \n",
    "\n",
    "The function calculates the probability of observing the given data $x$ under a Gaussian distribution with parameters $\\mu$ and $\\sigma$."
   ]
  },
  {
   "cell_type": "code",
   "execution_count": 14,
   "id": "0cc3b3d2-009e-4025-84fa-8a22221a38da",
   "metadata": {
    "tags": []
   },
   "outputs": [
    {
     "ename": "NameError",
     "evalue": "name 'fixed_std_dev' is not defined",
     "output_type": "error",
     "traceback": [
      "\u001b[0;31m---------------------------------------------------------------------------\u001b[0m",
      "\u001b[0;31mNameError\u001b[0m                                 Traceback (most recent call last)",
      "Cell \u001b[0;32mIn[14], line 7\u001b[0m\n\u001b[1;32m      3\u001b[0m likelihood_values \u001b[38;5;241m=\u001b[39m np\u001b[38;5;241m.\u001b[39mlinspace(\u001b[38;5;241m0\u001b[39m, \u001b[38;5;241m100\u001b[39m, \u001b[38;5;241m1000\u001b[39m)  \u001b[38;5;66;03m# Range of possible mean values\u001b[39;00m\n\u001b[1;32m      5\u001b[0m \u001b[38;5;66;03m# Likelihood function for the actual mean\u001b[39;00m\n\u001b[1;32m      6\u001b[0m \u001b[38;5;66;03m# padma: fixed_std_dev needs to be defined before this\u001b[39;00m\n\u001b[0;32m----> 7\u001b[0m actual_likelihood_function \u001b[38;5;241m=\u001b[39m np\u001b[38;5;241m.\u001b[39mexp(\u001b[38;5;241m-\u001b[39m\u001b[38;5;241m0.5\u001b[39m \u001b[38;5;241m*\u001b[39m ((likelihood_values \u001b[38;5;241m-\u001b[39m random_mean) \u001b[38;5;241m/\u001b[39m \u001b[43mfixed_std_dev\u001b[49m) \u001b[38;5;241m*\u001b[39m\u001b[38;5;241m*\u001b[39m \u001b[38;5;241m2\u001b[39m) \u001b[38;5;241m/\u001b[39m (fixed_std_dev \u001b[38;5;241m*\u001b[39m np\u001b[38;5;241m.\u001b[39msqrt(\u001b[38;5;241m2\u001b[39m \u001b[38;5;241m*\u001b[39m np\u001b[38;5;241m.\u001b[39mpi))\n\u001b[1;32m      9\u001b[0m \u001b[38;5;66;03m# Likelihood function for the sample mean\u001b[39;00m\n\u001b[1;32m     10\u001b[0m sample_likelihood_function \u001b[38;5;241m=\u001b[39m np\u001b[38;5;241m.\u001b[39mexp(\u001b[38;5;241m-\u001b[39m\u001b[38;5;241m0.5\u001b[39m \u001b[38;5;241m*\u001b[39m ((likelihood_values \u001b[38;5;241m-\u001b[39m sample_mean) \u001b[38;5;241m/\u001b[39m sample_std_dev) \u001b[38;5;241m*\u001b[39m\u001b[38;5;241m*\u001b[39m \u001b[38;5;241m2\u001b[39m) \u001b[38;5;241m/\u001b[39m (sample_std_dev \u001b[38;5;241m*\u001b[39m np\u001b[38;5;241m.\u001b[39msqrt(\u001b[38;5;241m2\u001b[39m \u001b[38;5;241m*\u001b[39m np\u001b[38;5;241m.\u001b[39mpi))\n",
      "\u001b[0;31mNameError\u001b[0m: name 'fixed_std_dev' is not defined"
     ]
    }
   ],
   "source": [
    "\n",
    "# padma: sorry this is very minor, but some of the steps are out of order, I think this might make it confusing to the reader\n",
    "# Step 6: Calculate the likelihood function for both the actual mean and the sample mean\n",
    "likelihood_values = np.linspace(0, 100, 1000)  # Range of possible mean values\n",
    "\n",
    "# Likelihood function for the actual mean\n",
    "# padma: fixed_std_dev needs to be defined before this\n",
    "actual_likelihood_function = np.exp(-0.5 * ((likelihood_values - random_mean) / fixed_std_dev) ** 2) / (fixed_std_dev * np.sqrt(2 * np.pi))\n",
    "\n",
    "# Likelihood function for the sample mean\n",
    "sample_likelihood_function = np.exp(-0.5 * ((likelihood_values - sample_mean) / sample_std_dev) ** 2) / (sample_std_dev * np.sqrt(2 * np.pi))\n",
    "\n",
    "# Step 7: Plot the likelihood functions\n",
    "plt.plot(likelihood_values, actual_likelihood_function, color='blue', label='Actual Mean Likelihood')\n",
    "plt.plot(likelihood_values, sample_likelihood_function, color='red', label='Sample Mean Likelihood')\n",
    "plt.xlabel('Mean')\n",
    "plt.ylabel('Likelihood')\n",
    "plt.title('Likelihood Functions')\n",
    "plt.legend()\n",
    "plt.show()"
   ]
  },
  {
   "cell_type": "markdown",
   "id": "1463bb76-9039-4eec-86d9-34ae6d4ec4ae",
   "metadata": {},
   "source": [
    "# Bayesian\n"
   ]
  },
  {
   "cell_type": "code",
   "execution_count": 13,
   "id": "ec12e2c0-70a4-4065-9631-2df3e418d4a8",
   "metadata": {
    "tags": []
   },
   "outputs": [
    {
     "ename": "NameError",
     "evalue": "name 'fixed_std_dev' is not defined",
     "output_type": "error",
     "traceback": [
      "\u001b[0;31m---------------------------------------------------------------------------\u001b[0m",
      "\u001b[0;31mNameError\u001b[0m                                 Traceback (most recent call last)",
      "Cell \u001b[0;32mIn[13], line 10\u001b[0m\n\u001b[1;32m      7\u001b[0m prior_std_dev \u001b[38;5;241m=\u001b[39m \u001b[38;5;241m2\u001b[39m  \u001b[38;5;66;03m# Prior standard deviation\u001b[39;00m\n\u001b[1;32m      9\u001b[0m \u001b[38;5;66;03m# Step 4: Update the prior using the observed data to obtain the posterior distribution\u001b[39;00m\n\u001b[0;32m---> 10\u001b[0m posterior_mean \u001b[38;5;241m=\u001b[39m (prior_std_dev\u001b[38;5;241m*\u001b[39m\u001b[38;5;241m*\u001b[39m\u001b[38;5;241m2\u001b[39m \u001b[38;5;241m*\u001b[39m np\u001b[38;5;241m.\u001b[39mmean(sampled_data) \u001b[38;5;241m+\u001b[39m \u001b[43mfixed_std_dev\u001b[49m\u001b[38;5;241m*\u001b[39m\u001b[38;5;241m*\u001b[39m\u001b[38;5;241m2\u001b[39m \u001b[38;5;241m*\u001b[39m prior_mean) \u001b[38;5;241m/\u001b[39m \\\n\u001b[1;32m     11\u001b[0m     (prior_std_dev\u001b[38;5;241m*\u001b[39m\u001b[38;5;241m*\u001b[39m\u001b[38;5;241m2\u001b[39m \u001b[38;5;241m+\u001b[39m fixed_std_dev\u001b[38;5;241m*\u001b[39m\u001b[38;5;241m*\u001b[39m\u001b[38;5;241m2\u001b[39m)\n\u001b[1;32m     12\u001b[0m posterior_std_dev \u001b[38;5;241m=\u001b[39m np\u001b[38;5;241m.\u001b[39msqrt((prior_std_dev\u001b[38;5;241m*\u001b[39m\u001b[38;5;241m*\u001b[39m\u001b[38;5;241m2\u001b[39m \u001b[38;5;241m*\u001b[39m fixed_std_dev\u001b[38;5;241m*\u001b[39m\u001b[38;5;241m*\u001b[39m\u001b[38;5;241m2\u001b[39m) \u001b[38;5;241m/\u001b[39m (prior_std_dev\u001b[38;5;241m*\u001b[39m\u001b[38;5;241m*\u001b[39m\u001b[38;5;241m2\u001b[39m \u001b[38;5;241m+\u001b[39m fixed_std_dev\u001b[38;5;241m*\u001b[39m\u001b[38;5;241m*\u001b[39m\u001b[38;5;241m2\u001b[39m))\n\u001b[1;32m     14\u001b[0m \u001b[38;5;66;03m# Step 5: Plot the prior, likelihood, and posterior distributions\u001b[39;00m\n",
      "\u001b[0;31mNameError\u001b[0m: name 'fixed_std_dev' is not defined"
     ]
    }
   ],
   "source": [
    "# Step 2: Randomly sample from the dataset\n",
    "sample_size = 10\n",
    "sampled_data = np.random.choice(random_dataset, size=sample_size, replace=False)\n",
    "\n",
    "# Step 3: Define the prior distribution for the mean\n",
    "prior_mean = 5  # Prior mean\n",
    "prior_std_dev = 2  # Prior standard deviation\n",
    "\n",
    "# Step 4: Update the prior using the observed data to obtain the posterior distribution\n",
    "posterior_mean = (prior_std_dev**2 * np.mean(sampled_data) + fixed_std_dev**2 * prior_mean) / \\\n",
    "    (prior_std_dev**2 + fixed_std_dev**2)\n",
    "posterior_std_dev = np.sqrt((prior_std_dev**2 * fixed_std_dev**2) / (prior_std_dev**2 + fixed_std_dev**2))\n",
    "\n",
    "# Step 5: Plot the prior, likelihood, and posterior distributions\n",
    "x = np.linspace(0, 100, 1000)\n",
    "prior_distribution = norm.pdf(x, prior_mean, prior_std_dev)\n",
    "posterior_distribution = norm.pdf(x, posterior_mean, posterior_std_dev)\n",
    "\n",
    "plt.figure(figsize=(10, 6))\n",
    "plt.plot(x, prior_distribution, label='Prior', color='blue')\n",
    "plt.plot(x, posterior_distribution, label='Posterior', color='red')\n",
    "\n",
    "# Plot vertical lines for prior mean and posterior mean\n",
    "plt.axvline(x=prior_mean, color='blue', linestyle='--', label='Prior Mean')\n",
    "plt.axvline(x=posterior_mean, color='red', linestyle='--', label='Posterior Mean')\n",
    "\n",
    "plt.xlabel('Mean')\n",
    "plt.ylabel('Density')\n",
    "plt.title('Bayesian Inference for Mean Estimation')\n",
    "plt.legend()\n",
    "plt.show()"
   ]
  }
 ],
 "metadata": {
  "kernelspec": {
   "display_name": "Python 3 (ipykernel)",
   "language": "python",
   "name": "python3"
  },
  "language_info": {
   "codemirror_mode": {
    "name": "ipython",
    "version": 3
   },
   "file_extension": ".py",
   "mimetype": "text/x-python",
   "name": "python",
   "nbconvert_exporter": "python",
   "pygments_lexer": "ipython3",
   "version": "3.11.4"
  }
 },
 "nbformat": 4,
 "nbformat_minor": 5
}
