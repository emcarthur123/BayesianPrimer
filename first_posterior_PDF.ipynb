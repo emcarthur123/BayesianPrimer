{
 "cells": [
  {
   "cell_type": "code",
   "execution_count": 1,
   "metadata": {},
   "outputs": [],
   "source": [
    "### REQUIRED IMPORTS\n",
    "import numpy as np\n",
    "import matplotlib.pyplot as plt\n",
    "from scipy.stats import norm\n",
    "\n",
    "np.random.seed(42)"
   ]
  },
  {
   "cell_type": "markdown",
   "metadata": {},
   "source": [
    "<h2><center> 1. First Posterior PDF </h2>"
   ]
  },
  {
   "cell_type": "markdown",
   "metadata": {},
   "source": [
    "### Goals\n",
    "\n",
    "**1. Understand and implement in code the following components of Bayesian Inference**\n",
    "\n",
    "    1. Prior Distribution\n",
    "    2. Sampling Function / Likelihood\n",
    "    3. Posterior Distribution\n",
    "\n",
    "**2. Define each component for our toy example: Measuring Phil's Height.**\n",
    "\n",
    "**3. Visualize the result of assigning a prior, observing/measuring data and updating our belief to the posterior distribution.** \n"
   ]
  },
  {
   "cell_type": "markdown",
   "metadata": {},
   "source": [
    "### Example Scenario\n",
    "We want to measure Phil's height. Before making any measurements, we think his height is `182 cm +/- 12.7 cm`. We then make three **independent** measurements of his height and record `190`, `185`, and `191`. In this notebook, we want to understand and visualize how we can arrive at a <u>final probability distribution function (PDF)</u> describing Phil's height or the <u>Posterior PDF</u>, using the provided information."
   ]
  },
  {
   "cell_type": "markdown",
   "metadata": {},
   "source": [
    "### Bayes Theorem\n",
    "`In this section outline Bayes Theorem.`"
   ]
  },
  {
   "cell_type": "markdown",
   "metadata": {},
   "source": [
    "### Prior Assumptions"
   ]
  },
  {
   "cell_type": "markdown",
   "metadata": {},
   "source": [
    "`Explain what the prior assumptions are.`"
   ]
  },
  {
   "cell_type": "code",
   "execution_count": 1,
   "metadata": {},
   "outputs": [],
   "source": [
    "### In this cell, implement the prior assumption as a function, \n",
    "### We can use this function when we later compute the posterior PDF\n"
   ]
  },
  {
   "cell_type": "markdown",
   "metadata": {},
   "source": [
    "### Likelihood"
   ]
  },
  {
   "cell_type": "markdown",
   "metadata": {},
   "source": [
    "`Outline the functional form for the likelihood. Describe what assumptions we're making about our likelihood. Derive the analytical description for the likelihood given our 3 datapoints.`"
   ]
  },
  {
   "cell_type": "code",
   "execution_count": null,
   "metadata": {},
   "outputs": [],
   "source": [
    "### In this cell, implement the likelihood function given our three observations\n",
    "### We can use this function when we later compute the posterior PDF"
   ]
  },
  {
   "cell_type": "code",
   "execution_count": null,
   "metadata": {},
   "outputs": [],
   "source": [
    "### Implement a function that returns the likelihood given a variable number of observations"
   ]
  },
  {
   "cell_type": "markdown",
   "metadata": {},
   "source": [
    "### Posterior Distribution"
   ]
  },
  {
   "cell_type": "code",
   "execution_count": 2,
   "metadata": {},
   "outputs": [],
   "source": [
    "### Implement a function to obtain the Posterior PDF"
   ]
  },
  {
   "cell_type": "code",
   "execution_count": 3,
   "metadata": {},
   "outputs": [],
   "source": [
    "### Overlay the following curves: 1. the Prior PDF, 2. the Likelihood of each datapoint (3 curves), \n",
    "### 3. the Posterior PDF"
   ]
  },
  {
   "cell_type": "code",
   "execution_count": null,
   "metadata": {},
   "outputs": [],
   "source": [
    "### Overlay the following curves: 1. the Likelihood of each datapoint (3 individual curves), \n",
    "### 2. the Likelihood of all datapoints (this is the joint probability of observing all 3 datapoints), "
   ]
  },
  {
   "cell_type": "code",
   "execution_count": null,
   "metadata": {},
   "outputs": [],
   "source": [
    "### Overlay the following curves: 1. the Prior PDF, \n",
    "### 2. the Likelihood of all datapoints (this is the joint probability of observing all 3 datapoints), \n",
    "### 3. the Posterior PDF"
   ]
  }
 ],
 "metadata": {
  "kernelspec": {
   "display_name": "silver",
   "language": "python",
   "name": "python3"
  },
  "language_info": {
   "codemirror_mode": {
    "name": "ipython",
    "version": 3
   },
   "file_extension": ".py",
   "mimetype": "text/x-python",
   "name": "python",
   "nbconvert_exporter": "python",
   "pygments_lexer": "ipython3",
   "version": "3.11.4"
  }
 },
 "nbformat": 4,
 "nbformat_minor": 2
}
